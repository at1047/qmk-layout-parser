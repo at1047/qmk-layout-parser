{
 "cells": [
  {
   "cell_type": "code",
   "execution_count": 1,
   "metadata": {},
   "outputs": [],
   "source": [
    "import plotly.express as px\n",
    "import pandas as pd"
   ]
  },
  {
   "cell_type": "code",
   "execution_count": 2,
   "metadata": {},
   "outputs": [],
   "source": [
    "layout = [\n",
    "                {\"matrix\": [0, 0], \"x\": 0, \"y\": 0.5},\n",
    "                {\"matrix\": [0, 1], \"x\": 1, \"y\": 0.375},\n",
    "                {\"matrix\": [0, 2], \"x\": 2, \"y\": 0.125},\n",
    "                {\"matrix\": [0, 3], \"x\": 3, \"y\": 0},\n",
    "                {\"matrix\": [0, 4], \"x\": 4, \"y\": 0.125},\n",
    "                {\"matrix\": [0, 5], \"x\": 5, \"y\": 0.25},\n",
    "\n",
    "                {\"matrix\": [5, 5], \"x\": 10.5, \"y\": 0.25},\n",
    "                {\"matrix\": [5, 4], \"x\": 11.5, \"y\": 0.125},\n",
    "                {\"matrix\": [5, 3], \"x\": 12.5, \"y\": 0},\n",
    "                {\"matrix\": [5, 2], \"x\": 13.5, \"y\": 0.125},\n",
    "                {\"matrix\": [5, 1], \"x\": 14.5, \"y\": 0.375},\n",
    "                {\"matrix\": [5, 0], \"x\": 15.5, \"y\": 0.5},\n",
    "\n",
    "                {\"matrix\": [1, 0], \"x\": 0, \"y\": 1.5},\n",
    "                {\"matrix\": [1, 1], \"x\": 1, \"y\": 1.375},\n",
    "                {\"matrix\": [1, 2], \"x\": 2, \"y\": 1.125},\n",
    "                {\"matrix\": [1, 3], \"x\": 3, \"y\": 1},\n",
    "                {\"matrix\": [1, 4], \"x\": 4, \"y\": 1.125},\n",
    "                {\"matrix\": [1, 5], \"x\": 5, \"y\": 1.25},\n",
    "\n",
    "                {\"matrix\": [6, 5], \"x\": 10.5, \"y\": 1.25},\n",
    "                {\"matrix\": [6, 4], \"x\": 11.5, \"y\": 1.125},\n",
    "                {\"matrix\": [6, 3], \"x\": 12.5, \"y\": 1},\n",
    "                {\"matrix\": [6, 2], \"x\": 13.5, \"y\": 1.125},\n",
    "                {\"matrix\": [6, 1], \"x\": 14.5, \"y\": 1.375},\n",
    "                {\"matrix\": [6, 0], \"x\": 15.5, \"y\": 1.5},\n",
    "\n",
    "                {\"matrix\": [2, 0], \"x\": 0, \"y\": 2.5},\n",
    "                {\"matrix\": [2, 1], \"x\": 1, \"y\": 2.375},\n",
    "                {\"matrix\": [2, 2], \"x\": 2, \"y\": 2.125},\n",
    "                {\"matrix\": [2, 3], \"x\": 3, \"y\": 2},\n",
    "                {\"matrix\": [2, 4], \"x\": 4, \"y\": 2.125},\n",
    "                {\"matrix\": [2, 5], \"x\": 5, \"y\": 2.25},\n",
    "\n",
    "                {\"matrix\": [7, 5], \"x\": 10.5, \"y\": 2.25},\n",
    "                {\"matrix\": [7, 4], \"x\": 11.5, \"y\": 2.125},\n",
    "                {\"matrix\": [7, 3], \"x\": 12.5, \"y\": 2},\n",
    "                {\"matrix\": [7, 2], \"x\": 13.5, \"y\": 2.125},\n",
    "                {\"matrix\": [7, 1], \"x\": 14.5, \"y\": 2.375},\n",
    "                {\"matrix\": [7, 0], \"x\": 15.5, \"y\": 2.5},\n",
    "\n",
    "                {\"matrix\": [3, 0], \"x\": 0, \"y\": 3.5},\n",
    "                {\"matrix\": [3, 1], \"x\": 1, \"y\": 3.375},\n",
    "                {\"matrix\": [3, 2], \"x\": 2, \"y\": 3.125},\n",
    "                {\"matrix\": [3, 3], \"x\": 3, \"y\": 3},\n",
    "                {\"matrix\": [3, 4], \"x\": 4, \"y\": 3.125},\n",
    "                {\"matrix\": [3, 5], \"x\": 5, \"y\": 3.25},\n",
    "                {\"matrix\": [4, 5], \"x\": 6, \"y\": 2.75},\n",
    "\n",
    "                {\"matrix\": [9, 5], \"x\": 9.5, \"y\": 2.75},\n",
    "                {\"matrix\": [8, 5], \"x\": 10.5, \"y\": 3.25},\n",
    "                {\"matrix\": [8, 4], \"x\": 11.5, \"y\": 3.125},\n",
    "                {\"matrix\": [8, 3], \"x\": 12.5, \"y\": 3},\n",
    "                {\"matrix\": [8, 2], \"x\": 13.5, \"y\": 3.125},\n",
    "                {\"matrix\": [8, 1], \"x\": 14.5, \"y\": 3.375},\n",
    "                {\"matrix\": [8, 0], \"x\": 15.5, \"y\": 3.5},\n",
    "\n",
    "                {\"matrix\": [4, 0], \"x\": 1.5, \"y\": 4.375},\n",
    "                {\"matrix\": [4, 1], \"x\": 2.5, \"y\": 4.125},\n",
    "                {\"matrix\": [4, 2], \"x\": 3.5, \"y\": 4.15},\n",
    "                {\"matrix\": [4, 3], \"x\": 4.5, \"y\": 4.25},\n",
    "                {\"matrix\": [4, 4], \"x\": 6, \"y\": 4.25, \"h\": 1.5},\n",
    "\n",
    "                {\"matrix\": [9, 4], \"x\": 9.5, \"y\": 4.25, \"h\": 1.5},\n",
    "                {\"matrix\": [9, 3], \"x\": 11, \"y\": 4.25},\n",
    "                {\"matrix\": [9, 2], \"x\": 12, \"y\": 4.15},\n",
    "                {\"matrix\": [9, 1], \"x\": 13, \"y\": 4.125},\n",
    "                {\"matrix\": [9, 0], \"x\": 14, \"y\": 4.375}\n",
    "            ]"
   ]
  },
  {
   "cell_type": "code",
   "execution_count": 3,
   "metadata": {},
   "outputs": [
    {
     "name": "stderr",
     "output_type": "stream",
     "text": [
      "/var/folders/gd/scn0v0111b38g6h59_plcdtc0000gn/T/ipykernel_46634/489787968.py:9: FutureWarning: The behavior of DataFrame concatenation with empty or all-NA entries is deprecated. In a future version, this will no longer exclude empty or all-NA columns when determining the result dtypes. To retain the old behavior, exclude the relevant entries before the concat operation.\n",
      "  df = pd.concat([df, pd.DataFrame({\"x\":[x], \"y\":[y], \"matrix\":[matrix]})], ignore_index=True)\n"
     ]
    }
   ],
   "source": [
    "# kle = []\n",
    "\n",
    "df = pd.DataFrame(columns=['x', 'y', 'matrix'])\n",
    "\n",
    "for lay in layout:\n",
    "    x = lay[\"x\"]\n",
    "    y = lay[\"y\"]\n",
    "    matrix = str(lay[\"matrix\"])\n",
    "    df = pd.concat([df, pd.DataFrame({\"x\":[x], \"y\":[y], \"matrix\":[matrix]})], ignore_index=True)\n",
    "    # df.append()\n",
    "    # df['x'] = x\n",
    "    # df['y'] = y\n",
    "    # print(f\"x: {x}, y: {y}\")"
   ]
  },
  {
   "cell_type": "code",
   "execution_count": 10,
   "metadata": {},
   "outputs": [
    {
     "data": {
      "application/vnd.plotly.v1+json": {
       "config": {
        "plotlyServerURL": "https://plot.ly"
       },
       "data": [
        {
         "hovertemplate": "x=%{x}<br>y=%{y}<br>matrix=%{text}<extra></extra>",
         "legendgroup": "",
         "marker": {
          "color": "#636efa",
          "symbol": "circle"
         },
         "mode": "markers+text",
         "name": "",
         "orientation": "v",
         "showlegend": false,
         "text": [
          "[0, 0]",
          "[0, 1]",
          "[0, 2]",
          "[0, 3]",
          "[0, 4]",
          "[0, 5]",
          "[5, 5]",
          "[5, 4]",
          "[5, 3]",
          "[5, 2]",
          "[5, 1]",
          "[5, 0]",
          "[1, 0]",
          "[1, 1]",
          "[1, 2]",
          "[1, 3]",
          "[1, 4]",
          "[1, 5]",
          "[6, 5]",
          "[6, 4]",
          "[6, 3]",
          "[6, 2]",
          "[6, 1]",
          "[6, 0]",
          "[2, 0]",
          "[2, 1]",
          "[2, 2]",
          "[2, 3]",
          "[2, 4]",
          "[2, 5]",
          "[7, 5]",
          "[7, 4]",
          "[7, 3]",
          "[7, 2]",
          "[7, 1]",
          "[7, 0]",
          "[3, 0]",
          "[3, 1]",
          "[3, 2]",
          "[3, 3]",
          "[3, 4]",
          "[3, 5]",
          "[4, 5]",
          "[9, 5]",
          "[8, 5]",
          "[8, 4]",
          "[8, 3]",
          "[8, 2]",
          "[8, 1]",
          "[8, 0]",
          "[4, 0]",
          "[4, 1]",
          "[4, 2]",
          "[4, 3]",
          "[4, 4]",
          "[9, 4]",
          "[9, 3]",
          "[9, 2]",
          "[9, 1]",
          "[9, 0]"
         ],
         "textposition": "top center",
         "type": "scatter",
         "x": [
          0,
          1,
          2,
          3,
          4,
          5,
          10.5,
          11.5,
          12.5,
          13.5,
          14.5,
          15.5,
          0,
          1,
          2,
          3,
          4,
          5,
          10.5,
          11.5,
          12.5,
          13.5,
          14.5,
          15.5,
          0,
          1,
          2,
          3,
          4,
          5,
          10.5,
          11.5,
          12.5,
          13.5,
          14.5,
          15.5,
          0,
          1,
          2,
          3,
          4,
          5,
          6,
          9.5,
          10.5,
          11.5,
          12.5,
          13.5,
          14.5,
          15.5,
          1.5,
          2.5,
          3.5,
          4.5,
          6,
          9.5,
          11,
          12,
          13,
          14
         ],
         "xaxis": "x",
         "y": [
          0.5,
          0.375,
          0.125,
          0,
          0.125,
          0.25,
          0.25,
          0.125,
          0,
          0.125,
          0.375,
          0.5,
          1.5,
          1.375,
          1.125,
          1,
          1.125,
          1.25,
          1.25,
          1.125,
          1,
          1.125,
          1.375,
          1.5,
          2.5,
          2.375,
          2.125,
          2,
          2.125,
          2.25,
          2.25,
          2.125,
          2,
          2.125,
          2.375,
          2.5,
          3.5,
          3.375,
          3.125,
          3,
          3.125,
          3.25,
          2.75,
          2.75,
          3.25,
          3.125,
          3,
          3.125,
          3.375,
          3.5,
          4.375,
          4.125,
          4.15,
          4.25,
          4.25,
          4.25,
          4.25,
          4.15,
          4.125,
          4.375
         ],
         "yaxis": "y"
        }
       ],
       "layout": {
        "legend": {
         "tracegroupgap": 0
        },
        "margin": {
         "t": 60
        },
        "template": {
         "data": {
          "bar": [
           {
            "error_x": {
             "color": "#2a3f5f"
            },
            "error_y": {
             "color": "#2a3f5f"
            },
            "marker": {
             "line": {
              "color": "#E5ECF6",
              "width": 0.5
             },
             "pattern": {
              "fillmode": "overlay",
              "size": 10,
              "solidity": 0.2
             }
            },
            "type": "bar"
           }
          ],
          "barpolar": [
           {
            "marker": {
             "line": {
              "color": "#E5ECF6",
              "width": 0.5
             },
             "pattern": {
              "fillmode": "overlay",
              "size": 10,
              "solidity": 0.2
             }
            },
            "type": "barpolar"
           }
          ],
          "carpet": [
           {
            "aaxis": {
             "endlinecolor": "#2a3f5f",
             "gridcolor": "white",
             "linecolor": "white",
             "minorgridcolor": "white",
             "startlinecolor": "#2a3f5f"
            },
            "baxis": {
             "endlinecolor": "#2a3f5f",
             "gridcolor": "white",
             "linecolor": "white",
             "minorgridcolor": "white",
             "startlinecolor": "#2a3f5f"
            },
            "type": "carpet"
           }
          ],
          "choropleth": [
           {
            "colorbar": {
             "outlinewidth": 0,
             "ticks": ""
            },
            "type": "choropleth"
           }
          ],
          "contour": [
           {
            "colorbar": {
             "outlinewidth": 0,
             "ticks": ""
            },
            "colorscale": [
             [
              0,
              "#0d0887"
             ],
             [
              0.1111111111111111,
              "#46039f"
             ],
             [
              0.2222222222222222,
              "#7201a8"
             ],
             [
              0.3333333333333333,
              "#9c179e"
             ],
             [
              0.4444444444444444,
              "#bd3786"
             ],
             [
              0.5555555555555556,
              "#d8576b"
             ],
             [
              0.6666666666666666,
              "#ed7953"
             ],
             [
              0.7777777777777778,
              "#fb9f3a"
             ],
             [
              0.8888888888888888,
              "#fdca26"
             ],
             [
              1,
              "#f0f921"
             ]
            ],
            "type": "contour"
           }
          ],
          "contourcarpet": [
           {
            "colorbar": {
             "outlinewidth": 0,
             "ticks": ""
            },
            "type": "contourcarpet"
           }
          ],
          "heatmap": [
           {
            "colorbar": {
             "outlinewidth": 0,
             "ticks": ""
            },
            "colorscale": [
             [
              0,
              "#0d0887"
             ],
             [
              0.1111111111111111,
              "#46039f"
             ],
             [
              0.2222222222222222,
              "#7201a8"
             ],
             [
              0.3333333333333333,
              "#9c179e"
             ],
             [
              0.4444444444444444,
              "#bd3786"
             ],
             [
              0.5555555555555556,
              "#d8576b"
             ],
             [
              0.6666666666666666,
              "#ed7953"
             ],
             [
              0.7777777777777778,
              "#fb9f3a"
             ],
             [
              0.8888888888888888,
              "#fdca26"
             ],
             [
              1,
              "#f0f921"
             ]
            ],
            "type": "heatmap"
           }
          ],
          "heatmapgl": [
           {
            "colorbar": {
             "outlinewidth": 0,
             "ticks": ""
            },
            "colorscale": [
             [
              0,
              "#0d0887"
             ],
             [
              0.1111111111111111,
              "#46039f"
             ],
             [
              0.2222222222222222,
              "#7201a8"
             ],
             [
              0.3333333333333333,
              "#9c179e"
             ],
             [
              0.4444444444444444,
              "#bd3786"
             ],
             [
              0.5555555555555556,
              "#d8576b"
             ],
             [
              0.6666666666666666,
              "#ed7953"
             ],
             [
              0.7777777777777778,
              "#fb9f3a"
             ],
             [
              0.8888888888888888,
              "#fdca26"
             ],
             [
              1,
              "#f0f921"
             ]
            ],
            "type": "heatmapgl"
           }
          ],
          "histogram": [
           {
            "marker": {
             "pattern": {
              "fillmode": "overlay",
              "size": 10,
              "solidity": 0.2
             }
            },
            "type": "histogram"
           }
          ],
          "histogram2d": [
           {
            "colorbar": {
             "outlinewidth": 0,
             "ticks": ""
            },
            "colorscale": [
             [
              0,
              "#0d0887"
             ],
             [
              0.1111111111111111,
              "#46039f"
             ],
             [
              0.2222222222222222,
              "#7201a8"
             ],
             [
              0.3333333333333333,
              "#9c179e"
             ],
             [
              0.4444444444444444,
              "#bd3786"
             ],
             [
              0.5555555555555556,
              "#d8576b"
             ],
             [
              0.6666666666666666,
              "#ed7953"
             ],
             [
              0.7777777777777778,
              "#fb9f3a"
             ],
             [
              0.8888888888888888,
              "#fdca26"
             ],
             [
              1,
              "#f0f921"
             ]
            ],
            "type": "histogram2d"
           }
          ],
          "histogram2dcontour": [
           {
            "colorbar": {
             "outlinewidth": 0,
             "ticks": ""
            },
            "colorscale": [
             [
              0,
              "#0d0887"
             ],
             [
              0.1111111111111111,
              "#46039f"
             ],
             [
              0.2222222222222222,
              "#7201a8"
             ],
             [
              0.3333333333333333,
              "#9c179e"
             ],
             [
              0.4444444444444444,
              "#bd3786"
             ],
             [
              0.5555555555555556,
              "#d8576b"
             ],
             [
              0.6666666666666666,
              "#ed7953"
             ],
             [
              0.7777777777777778,
              "#fb9f3a"
             ],
             [
              0.8888888888888888,
              "#fdca26"
             ],
             [
              1,
              "#f0f921"
             ]
            ],
            "type": "histogram2dcontour"
           }
          ],
          "mesh3d": [
           {
            "colorbar": {
             "outlinewidth": 0,
             "ticks": ""
            },
            "type": "mesh3d"
           }
          ],
          "parcoords": [
           {
            "line": {
             "colorbar": {
              "outlinewidth": 0,
              "ticks": ""
             }
            },
            "type": "parcoords"
           }
          ],
          "pie": [
           {
            "automargin": true,
            "type": "pie"
           }
          ],
          "scatter": [
           {
            "fillpattern": {
             "fillmode": "overlay",
             "size": 10,
             "solidity": 0.2
            },
            "type": "scatter"
           }
          ],
          "scatter3d": [
           {
            "line": {
             "colorbar": {
              "outlinewidth": 0,
              "ticks": ""
             }
            },
            "marker": {
             "colorbar": {
              "outlinewidth": 0,
              "ticks": ""
             }
            },
            "type": "scatter3d"
           }
          ],
          "scattercarpet": [
           {
            "marker": {
             "colorbar": {
              "outlinewidth": 0,
              "ticks": ""
             }
            },
            "type": "scattercarpet"
           }
          ],
          "scattergeo": [
           {
            "marker": {
             "colorbar": {
              "outlinewidth": 0,
              "ticks": ""
             }
            },
            "type": "scattergeo"
           }
          ],
          "scattergl": [
           {
            "marker": {
             "colorbar": {
              "outlinewidth": 0,
              "ticks": ""
             }
            },
            "type": "scattergl"
           }
          ],
          "scattermapbox": [
           {
            "marker": {
             "colorbar": {
              "outlinewidth": 0,
              "ticks": ""
             }
            },
            "type": "scattermapbox"
           }
          ],
          "scatterpolar": [
           {
            "marker": {
             "colorbar": {
              "outlinewidth": 0,
              "ticks": ""
             }
            },
            "type": "scatterpolar"
           }
          ],
          "scatterpolargl": [
           {
            "marker": {
             "colorbar": {
              "outlinewidth": 0,
              "ticks": ""
             }
            },
            "type": "scatterpolargl"
           }
          ],
          "scatterternary": [
           {
            "marker": {
             "colorbar": {
              "outlinewidth": 0,
              "ticks": ""
             }
            },
            "type": "scatterternary"
           }
          ],
          "surface": [
           {
            "colorbar": {
             "outlinewidth": 0,
             "ticks": ""
            },
            "colorscale": [
             [
              0,
              "#0d0887"
             ],
             [
              0.1111111111111111,
              "#46039f"
             ],
             [
              0.2222222222222222,
              "#7201a8"
             ],
             [
              0.3333333333333333,
              "#9c179e"
             ],
             [
              0.4444444444444444,
              "#bd3786"
             ],
             [
              0.5555555555555556,
              "#d8576b"
             ],
             [
              0.6666666666666666,
              "#ed7953"
             ],
             [
              0.7777777777777778,
              "#fb9f3a"
             ],
             [
              0.8888888888888888,
              "#fdca26"
             ],
             [
              1,
              "#f0f921"
             ]
            ],
            "type": "surface"
           }
          ],
          "table": [
           {
            "cells": {
             "fill": {
              "color": "#EBF0F8"
             },
             "line": {
              "color": "white"
             }
            },
            "header": {
             "fill": {
              "color": "#C8D4E3"
             },
             "line": {
              "color": "white"
             }
            },
            "type": "table"
           }
          ]
         },
         "layout": {
          "annotationdefaults": {
           "arrowcolor": "#2a3f5f",
           "arrowhead": 0,
           "arrowwidth": 1
          },
          "autotypenumbers": "strict",
          "coloraxis": {
           "colorbar": {
            "outlinewidth": 0,
            "ticks": ""
           }
          },
          "colorscale": {
           "diverging": [
            [
             0,
             "#8e0152"
            ],
            [
             0.1,
             "#c51b7d"
            ],
            [
             0.2,
             "#de77ae"
            ],
            [
             0.3,
             "#f1b6da"
            ],
            [
             0.4,
             "#fde0ef"
            ],
            [
             0.5,
             "#f7f7f7"
            ],
            [
             0.6,
             "#e6f5d0"
            ],
            [
             0.7,
             "#b8e186"
            ],
            [
             0.8,
             "#7fbc41"
            ],
            [
             0.9,
             "#4d9221"
            ],
            [
             1,
             "#276419"
            ]
           ],
           "sequential": [
            [
             0,
             "#0d0887"
            ],
            [
             0.1111111111111111,
             "#46039f"
            ],
            [
             0.2222222222222222,
             "#7201a8"
            ],
            [
             0.3333333333333333,
             "#9c179e"
            ],
            [
             0.4444444444444444,
             "#bd3786"
            ],
            [
             0.5555555555555556,
             "#d8576b"
            ],
            [
             0.6666666666666666,
             "#ed7953"
            ],
            [
             0.7777777777777778,
             "#fb9f3a"
            ],
            [
             0.8888888888888888,
             "#fdca26"
            ],
            [
             1,
             "#f0f921"
            ]
           ],
           "sequentialminus": [
            [
             0,
             "#0d0887"
            ],
            [
             0.1111111111111111,
             "#46039f"
            ],
            [
             0.2222222222222222,
             "#7201a8"
            ],
            [
             0.3333333333333333,
             "#9c179e"
            ],
            [
             0.4444444444444444,
             "#bd3786"
            ],
            [
             0.5555555555555556,
             "#d8576b"
            ],
            [
             0.6666666666666666,
             "#ed7953"
            ],
            [
             0.7777777777777778,
             "#fb9f3a"
            ],
            [
             0.8888888888888888,
             "#fdca26"
            ],
            [
             1,
             "#f0f921"
            ]
           ]
          },
          "colorway": [
           "#636efa",
           "#EF553B",
           "#00cc96",
           "#ab63fa",
           "#FFA15A",
           "#19d3f3",
           "#FF6692",
           "#B6E880",
           "#FF97FF",
           "#FECB52"
          ],
          "font": {
           "color": "#2a3f5f"
          },
          "geo": {
           "bgcolor": "white",
           "lakecolor": "white",
           "landcolor": "#E5ECF6",
           "showlakes": true,
           "showland": true,
           "subunitcolor": "white"
          },
          "hoverlabel": {
           "align": "left"
          },
          "hovermode": "closest",
          "mapbox": {
           "style": "light"
          },
          "paper_bgcolor": "white",
          "plot_bgcolor": "#E5ECF6",
          "polar": {
           "angularaxis": {
            "gridcolor": "white",
            "linecolor": "white",
            "ticks": ""
           },
           "bgcolor": "#E5ECF6",
           "radialaxis": {
            "gridcolor": "white",
            "linecolor": "white",
            "ticks": ""
           }
          },
          "scene": {
           "xaxis": {
            "backgroundcolor": "#E5ECF6",
            "gridcolor": "white",
            "gridwidth": 2,
            "linecolor": "white",
            "showbackground": true,
            "ticks": "",
            "zerolinecolor": "white"
           },
           "yaxis": {
            "backgroundcolor": "#E5ECF6",
            "gridcolor": "white",
            "gridwidth": 2,
            "linecolor": "white",
            "showbackground": true,
            "ticks": "",
            "zerolinecolor": "white"
           },
           "zaxis": {
            "backgroundcolor": "#E5ECF6",
            "gridcolor": "white",
            "gridwidth": 2,
            "linecolor": "white",
            "showbackground": true,
            "ticks": "",
            "zerolinecolor": "white"
           }
          },
          "shapedefaults": {
           "line": {
            "color": "#2a3f5f"
           }
          },
          "ternary": {
           "aaxis": {
            "gridcolor": "white",
            "linecolor": "white",
            "ticks": ""
           },
           "baxis": {
            "gridcolor": "white",
            "linecolor": "white",
            "ticks": ""
           },
           "bgcolor": "#E5ECF6",
           "caxis": {
            "gridcolor": "white",
            "linecolor": "white",
            "ticks": ""
           }
          },
          "title": {
           "x": 0.05
          },
          "xaxis": {
           "automargin": true,
           "gridcolor": "white",
           "linecolor": "white",
           "ticks": "",
           "title": {
            "standoff": 15
           },
           "zerolinecolor": "white",
           "zerolinewidth": 2
          },
          "yaxis": {
           "automargin": true,
           "gridcolor": "white",
           "linecolor": "white",
           "ticks": "",
           "title": {
            "standoff": 15
           },
           "zerolinecolor": "white",
           "zerolinewidth": 2
          }
         }
        },
        "xaxis": {
         "anchor": "y",
         "domain": [
          0,
          1
         ],
         "title": {
          "text": "x"
         }
        },
        "yaxis": {
         "anchor": "x",
         "autorange": "reversed",
         "domain": [
          0,
          1
         ],
         "title": {
          "text": "y"
         }
        }
       }
      }
     },
     "metadata": {},
     "output_type": "display_data"
    }
   ],
   "source": [
    "fig = px.scatter(df, x=\"x\", y=\"y\", text=\"matrix\")\n",
    "fig.update_traces(textposition='top center')\n",
    "fig['layout']['yaxis']['autorange'] = \"reversed\"\n",
    "fig.show()"
   ]
  }
 ],
 "metadata": {
  "kernelspec": {
   "display_name": "Python 3",
   "language": "python",
   "name": "python3"
  },
  "language_info": {
   "codemirror_mode": {
    "name": "ipython",
    "version": 3
   },
   "file_extension": ".py",
   "mimetype": "text/x-python",
   "name": "python",
   "nbconvert_exporter": "python",
   "pygments_lexer": "ipython3",
   "version": "3.11.5"
  }
 },
 "nbformat": 4,
 "nbformat_minor": 2
}
